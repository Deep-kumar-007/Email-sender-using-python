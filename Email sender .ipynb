{
 "cells": [
  {
   "cell_type": "code",
   "execution_count": 62,
   "id": "791465ea",
   "metadata": {},
   "outputs": [],
   "source": [
    "import os         \n",
    "from email.message import EmailMessage\n",
    "import ssl\n",
    "import smtplib    \n",
    "\n",
    "email_sender = 'deepkumarktp@gmail.com'\n",
    "email_password = 'lkgqrxmznxulrudb'\n",
    "email_receiver = 'pareek.rahul.9469@gmail.com'\n",
    "\n",
    "subject = 'Check out my email code'\n",
    "body = \"\"\"\n",
    "\"\"\"\n",
    "\n",
    "em = EmailMessage()\n",
    "em['From'] = email_sender\n",
    "em['To'] = email_receiver\n",
    "em['Subject'] = subject\n",
    "em.set_content(body)\n",
    "\n",
    "context = ssl.create_default_context()\n",
    "with smtplib.SMTP_SSL('smtp.gmail.com', 465, context=context) as smtp:\n",
    "    smtp.login(email_sender, email_password)\n",
    "    smtp.sendmail(email_sender, email_receiver, em.as_string())"
   ]
  },
  {
   "cell_type": "code",
   "execution_count": null,
   "id": "5f6eaf14",
   "metadata": {},
   "outputs": [],
   "source": []
  }
 ],
 "metadata": {
  "kernelspec": {
   "display_name": "Python 3 (ipykernel)",
   "language": "python",
   "name": "python3"
  },
  "language_info": {
   "codemirror_mode": {
    "name": "ipython",
    "version": 3
   },
   "file_extension": ".py",
   "mimetype": "text/x-python",
   "name": "python",
   "nbconvert_exporter": "python",
   "pygments_lexer": "ipython3",
   "version": "3.10.9"
  }
 },
 "nbformat": 4,
 "nbformat_minor": 5
}
